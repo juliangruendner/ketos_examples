{
 "cells": [
  {
   "cell_type": "markdown",
   "metadata": {},
   "source": [
    "# ketos jupyter notebook machine learning example\n",
    "\n",
    "Hi there, this is your personal model building environment. You have full access to your environment and can install any R packages you need and build your own models.\n",
    "\n",
    "Rhis is an example for a ketos jupyter notebook, that will guide you through the model development and deployment process.\n",
    "\n",
    "TRAIN YOUR MODEL\n",
    "\n",
    "To train your model you can install any R packages you might need, add any additional functions and build your own model.\n",
    "\n",
    "For any good building process you will need data, here is how you get it:\n",
    "\n",
    "1. go to your ketos user interface and request a new dataset. Once your dataset has been prepared for you, you can access it from within this notebook, to do this just substitute the string \n",
    "\"paste your training data url from your ketos system here to get your training data\"\n",
    "in the \"ketos_train\" cell with the URL you got.\n",
    "\n",
    "\n",
    "DEPLOY YOUR MODEL\n",
    "\n",
    "to deploy the notebook in order to allow for external predictions just do the following:\n",
    "\n",
    "1. tag the cells that you would like to be executed for your prediction with the keyword \"ketos_predict\" in the first line of each cell as a comment.\n",
    "\n",
    "2. tag the cells which produce the output for the prediction with the keyword \"ketos_predict_output\", please note that this cell will be executed and the output will be used as return value for the prediction. It is expected to be in json format as supplied by the \"format_to_json\" function provided here.\n",
    "\n",
    "#### please note that if you would like to test a prediction using this model on our demo server, you will need to call one of the following patient ids in the front end: https://ketos.ai/mlmodels\n",
    "\n",
    "Requirement for patientid:\n",
    "\n",
    "0 <= patientid <= 300"
   ]
  },
  {
   "cell_type": "code",
   "execution_count": null,
   "metadata": {},
   "outputs": [],
   "source": [
    "install.packages(c('caret', 'randomForestSRC', 'mlr', 'glmnet', 'Hmisc'))"
   ]
  },
  {
   "cell_type": "code",
   "execution_count": null,
   "metadata": {},
   "outputs": [],
   "source": [
    "# ketos_init\n",
    "genPrep = function(){  \n",
    "  library(caret)\n",
    "  library(randomForestSRC)\n",
    "  library(mlr)\n",
    "}\n",
    "\n",
    "genPrep()"
   ]
  },
  {
   "cell_type": "code",
   "execution_count": null,
   "metadata": {},
   "outputs": [],
   "source": [
    "# ketos_train\n",
    "genPrep = function(){  \n",
    "  library(caret)\n",
    "  library(randomForestSRC)\n",
    "  library(mlr)\n",
    "  source('utils.R')\n",
    "}\n",
    "\n",
    "genPrep()"
   ]
  },
  {
   "cell_type": "code",
   "execution_count": null,
   "metadata": {
    "mlServiceFunc": "predict"
   },
   "outputs": [],
   "source": [
    "# ketos_train\n",
    "# Read data and create input files for model training and testing\n",
    "data <- read.csv(url(\"http://ketos_preproc:5000/aggregation/5d83be907855073c16aa73cf?output_type=csv&aggregation_type=latest\"))\n",
    "write.table(data, 'data_all.csv', sep = \";\", quote = TRUE, dec = \".\", row.names = FALSE, append = FALSE)\n",
    "data <- read.csv(\"data_all.csv\", header = TRUE, sep = \";\", quote = \"\\\"\",dec = \".\", fill = TRUE, comment.char = \"\")\n",
    "data<- na.omit(data)\n",
    "data$diseaseFreeSurvival <- sapply(data$diseaseFreeSurvival, function(x) { ifelse(x == \"No\", TRUE, FALSE)})\n",
    "data$DeathEvent <- sapply(data$DeathEvent, function(x) { ifelse(x == \"Yes\", TRUE, FALSE)})\n"
   ]
  },
  {
   "cell_type": "code",
   "execution_count": null,
   "metadata": {},
   "outputs": [],
   "source": [
    "# ketos_train\n",
    "\n",
    "# drop all variables not needed for model building\n",
    "drops <- c(\"diseaseFreeSurvivalTime\",\"diseaseFreeSurvival\", \"patient\")\n",
    "data = data[ , !(names(data) %in% drops)]\n",
    "\n",
    "seed <- 8\n",
    "splitData <- splitData(seed, data)\n",
    "trainingData<-splitData$training\n",
    "testData <- splitData$test\n",
    "write.table(trainingData, 'training_data.csv', sep = \";\", quote = TRUE, dec = \".\", row.names = FALSE, append = FALSE)\n",
    "write.table(testData, 'test_data.csv', sep = \";\", quote = TRUE, dec = \".\", row.names = FALSE, append = FALSE)"
   ]
  },
  {
   "cell_type": "code",
   "execution_count": null,
   "metadata": {},
   "outputs": [],
   "source": [
    "# ketos_train\n",
    "outcomeVar1 = 'survivalTime'\n",
    "outcomeVar2 = 'DeathEvent'\n",
    "outcomeVar <- c(outcomeVar1,outcomeVar2)\n",
    "\n",
    "measures <- list(cindex)\n",
    "trainedModelsMlr <- trainModelsMlr(trainingData, outcomeVar, measures)\n",
    "\n",
    "modeltoSave <- paste(\"colRec_mlrModels\", sep = \"\",collapse =\"\")\n",
    "save(trainedModelsMlr,file = modeltoSave)"
   ]
  },
  {
   "cell_type": "code",
   "execution_count": null,
   "metadata": {},
   "outputs": [],
   "source": [
    "# ketos_train\n",
    "load(\"colRec_mlrModels\")\n",
    "predictTrainMlrModels <- createPredictModels(trainingData,trainedModelsMlr, packType = \"mlr\")\n",
    "predictTestMlrModels <- createPredictModels(testData, trainedModelsMlr,packType = \"mlr\" )\n",
    "\n",
    "evalMetric <- cindex\n",
    "\n",
    "evalMetric = cindex\n",
    "evalMlrModelsTraining <- evalModelListsAccsDf(predictTrainMlrModels, trainingData, packType = \"mlr\", evalMetric = evalMetric)\n",
    "\n",
    "evalMlrModelsTest <- evalModelListsAccsDf(predictTestMlrModels, testData, packType = \"mlr\", evalMetric = evalMetric)\n",
    "\n",
    "evalMlrModelsTraining\n",
    "evalMlrModelsTest"
   ]
  },
  {
   "cell_type": "code",
   "execution_count": null,
   "metadata": {},
   "outputs": [],
   "source": [
    "#ketos_predict\n",
    "\n",
    "# ensure that libraries are loaded in extra cell to ensure fully loaded before execution of prediction\n",
    "\n",
    "genPrep = function(){  \n",
    "  library(caret)\n",
    "  library(randomForestSRC)\n",
    "  library(mlr)\n",
    "}\n",
    "\n",
    "genPrep()"
   ]
  },
  {
   "cell_type": "code",
   "execution_count": null,
   "metadata": {},
   "outputs": [],
   "source": [
    "#ketos_predict, ketos_predict_output\n",
    "\n",
    "format_to_json = function(patientIds, predictions){\n",
    "    ret_json = \"[\"\n",
    "    ret_json = paste(ret_json,'{\"patientId\":\"',patientIds[1] ,'\", \"prediction\":\"',predictions[1], '\"}', sep=\"\")\n",
    "    \n",
    "    if(!length(patientIds) == 1){\n",
    "    for(i in 2:length(patientIds)){\n",
    "        patientId = patientIds[i]\n",
    "        prediction = predictions[i]\n",
    "        \n",
    "        ret_json = paste(ret_json,',{\"patientId\":\"',patientId ,'\", \"prediction\":\"' ,prediction, '\"}', sep=\"\")\n",
    "    }\n",
    "        }\n",
    "    ret_json = paste(ret_json, \"]\", sep=\"\")\n",
    "    \n",
    "    return (ret_json)\n",
    "}\n",
    "\n",
    "ketos_predict = function(){\n",
    "    ketos_predict_data = (\"csv url will be inserted for the predict call here automatically - paste your url here to test ur predict function\")\n",
    "    load(\"colRec_mlrModels\")\n",
    "    predict_data = read.csv(url(ketos_predict_data))\n",
    "    drops <- c(\"diseaseFreeSurvivalTime\",\"diseaseFreeSurvival\", \"DeathEvent\", \"survivalTime\")\n",
    "    predict_data = predict_data[ , !(names(predict_data) %in% drops)]\n",
    "    prediction = predict(trainedModelsMlr$coxph, newdata=predict_data)\n",
    "    prediction = format_to_json(predict_data$patient, prediction$data)\n",
    "    return (prediction)\n",
    "}\n",
    "print(ketos_predict(), quote=FALSE)"
   ]
  }
 ],
 "metadata": {
  "celltoolbar": "Edit Metadata",
  "kernelspec": {
   "display_name": "R",
   "language": "R",
   "name": "ir"
  },
  "language_info": {
   "codemirror_mode": "r",
   "file_extension": ".r",
   "mimetype": "text/x-r-source",
   "name": "R",
   "pygments_lexer": "r",
   "version": "3.5.1"
  }
 },
 "nbformat": 4,
 "nbformat_minor": 2
}
